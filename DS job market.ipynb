{
 "cells": [
  {
   "cell_type": "code",
   "execution_count": 1,
   "metadata": {},
   "outputs": [],
   "source": [
    "import pandas as pd\n",
    "from pandas_profiling import ProfileReport"
   ]
  },
  {
   "cell_type": "code",
   "execution_count": 4,
   "metadata": {},
   "outputs": [
    {
     "name": "stderr",
     "output_type": "stream",
     "text": [
      "Summarize dataset: 100%|██████████| 19/19 [00:01<00:00, 10.43it/s, Completed]                    \n",
      "Generate report structure: 100%|██████████| 1/1 [00:02<00:00,  2.08s/it]\n",
      "Render HTML: 100%|██████████| 1/1 [00:00<00:00,  2.42it/s]\n",
      "Export report to file: 100%|██████████| 1/1 [00:00<00:00, 100.00it/s]\n"
     ]
    }
   ],
   "source": [
    "df = pd.read_csv(\"alldata.csv\")\n",
    "profile = ProfileReport(df, title=\"DS job market\")\n",
    "profile.to_file(\"DS job market.html\")"
   ]
  }
 ],
 "metadata": {
  "interpreter": {
   "hash": "b30dba9e6b327c49323427b5834a85ee77ca1b08e6e0e4d39a0ab79552f0e0c2"
  },
  "kernelspec": {
   "display_name": "Python 3.9.7 64-bit ('visualization-env': conda)",
   "language": "python",
   "name": "python3"
  },
  "language_info": {
   "codemirror_mode": {
    "name": "ipython",
    "version": 3
   },
   "file_extension": ".py",
   "mimetype": "text/x-python",
   "name": "python",
   "nbconvert_exporter": "python",
   "pygments_lexer": "ipython3",
   "version": "3.9.7"
  },
  "orig_nbformat": 4
 },
 "nbformat": 4,
 "nbformat_minor": 2
}
